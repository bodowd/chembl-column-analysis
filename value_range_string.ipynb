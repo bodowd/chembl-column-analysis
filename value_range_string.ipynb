{
 "cells": [
  {
   "cell_type": "code",
   "execution_count": 27,
   "id": "51eea789-0789-4b7e-8450-8a20781eda68",
   "metadata": {},
   "outputs": [],
   "source": [
    "import pandas as pd"
   ]
  },
  {
   "cell_type": "code",
   "execution_count": 28,
   "id": "d816dfe7-bf5a-460f-9794-a1e28b29fd36",
   "metadata": {},
   "outputs": [],
   "source": [
    "df = pd.read_csv('value_range.csv')"
   ]
  },
  {
   "cell_type": "code",
   "execution_count": 29,
   "id": "42709568-ac88-4c31-9d89-3414caeada89",
   "metadata": {},
   "outputs": [
    {
     "data": {
      "text/html": [
       "<div>\n",
       "<style scoped>\n",
       "    .dataframe tbody tr th:only-of-type {\n",
       "        vertical-align: middle;\n",
       "    }\n",
       "\n",
       "    .dataframe tbody tr th {\n",
       "        vertical-align: top;\n",
       "    }\n",
       "\n",
       "    .dataframe thead th {\n",
       "        text-align: right;\n",
       "    }\n",
       "</style>\n",
       "<table border=\"1\" class=\"dataframe\">\n",
       "  <thead>\n",
       "    <tr style=\"text-align: right;\">\n",
       "      <th></th>\n",
       "      <th>table_name</th>\n",
       "      <th>data_type</th>\n",
       "      <th>column_name</th>\n",
       "      <th>min</th>\n",
       "      <th>max</th>\n",
       "    </tr>\n",
       "  </thead>\n",
       "  <tbody>\n",
       "    <tr>\n",
       "      <th>0</th>\n",
       "      <td>assays</td>\n",
       "      <td>int</td>\n",
       "      <td>assay_id</td>\n",
       "      <td>1.0</td>\n",
       "      <td>2263434.0</td>\n",
       "    </tr>\n",
       "    <tr>\n",
       "      <th>1</th>\n",
       "      <td>assays</td>\n",
       "      <td>int</td>\n",
       "      <td>doc_id</td>\n",
       "      <td>1.0</td>\n",
       "      <td>124917.0</td>\n",
       "    </tr>\n",
       "    <tr>\n",
       "      <th>2</th>\n",
       "      <td>assays</td>\n",
       "      <td>int</td>\n",
       "      <td>assay_tax_id</td>\n",
       "      <td>2.0</td>\n",
       "      <td>2905673.0</td>\n",
       "    </tr>\n",
       "    <tr>\n",
       "      <th>3</th>\n",
       "      <td>assays</td>\n",
       "      <td>int</td>\n",
       "      <td>tid</td>\n",
       "      <td>1.0</td>\n",
       "      <td>120864.0</td>\n",
       "    </tr>\n",
       "    <tr>\n",
       "      <th>4</th>\n",
       "      <td>assays</td>\n",
       "      <td>int</td>\n",
       "      <td>confidence_score</td>\n",
       "      <td>0.0</td>\n",
       "      <td>9.0</td>\n",
       "    </tr>\n",
       "  </tbody>\n",
       "</table>\n",
       "</div>"
      ],
      "text/plain": [
       "  table_name data_type       column_name  min        max\n",
       "0     assays       int          assay_id  1.0  2263434.0\n",
       "1     assays       int            doc_id  1.0   124917.0\n",
       "2     assays       int      assay_tax_id  2.0  2905673.0\n",
       "3     assays       int               tid  1.0   120864.0\n",
       "4     assays       int  confidence_score  0.0        9.0"
      ]
     },
     "execution_count": 29,
     "metadata": {},
     "output_type": "execute_result"
    }
   ],
   "source": [
    "df.head()"
   ]
  },
  {
   "cell_type": "code",
   "execution_count": 30,
   "id": "35e2e36b-5ea5-4dd9-bacf-2dc26e57b0d4",
   "metadata": {},
   "outputs": [],
   "source": [
    "df=df[(df['data_type']=='string')]"
   ]
  },
  {
   "cell_type": "code",
   "execution_count": 31,
   "id": "5e139b25-027a-4f9c-b3f5-58c2433b0d06",
   "metadata": {},
   "outputs": [],
   "source": [
    "df['min'] = pd.to_numeric(df['min']).astype('Int64')\n",
    "df['max'] = pd.to_numeric(df['max']).astype('Int64')"
   ]
  },
  {
   "cell_type": "code",
   "execution_count": 32,
   "id": "88de5484-be69-4d6d-a49b-ef9199233e60",
   "metadata": {},
   "outputs": [],
   "source": [
    "df['range'] = df['max'] - df['min']"
   ]
  },
  {
   "cell_type": "code",
   "execution_count": 33,
   "id": "77a3095b-61b2-49bf-9f4c-17186e9e455d",
   "metadata": {},
   "outputs": [
    {
     "data": {
      "text/html": [
       "<div>\n",
       "<style scoped>\n",
       "    .dataframe tbody tr th:only-of-type {\n",
       "        vertical-align: middle;\n",
       "    }\n",
       "\n",
       "    .dataframe tbody tr th {\n",
       "        vertical-align: top;\n",
       "    }\n",
       "\n",
       "    .dataframe thead th {\n",
       "        text-align: right;\n",
       "    }\n",
       "</style>\n",
       "<table border=\"1\" class=\"dataframe\">\n",
       "  <thead>\n",
       "    <tr style=\"text-align: right;\">\n",
       "      <th></th>\n",
       "      <th>table_name</th>\n",
       "      <th>data_type</th>\n",
       "      <th>column_name</th>\n",
       "      <th>min</th>\n",
       "      <th>max</th>\n",
       "      <th>range</th>\n",
       "    </tr>\n",
       "  </thead>\n",
       "  <tbody>\n",
       "    <tr>\n",
       "      <th>46</th>\n",
       "      <td>activity_properties</td>\n",
       "      <td>string</td>\n",
       "      <td>comments</td>\n",
       "      <td>&lt;NA&gt;</td>\n",
       "      <td>&lt;NA&gt;</td>\n",
       "      <td>&lt;NA&gt;</td>\n",
       "    </tr>\n",
       "    <tr>\n",
       "      <th>240</th>\n",
       "      <td>domains</td>\n",
       "      <td>string</td>\n",
       "      <td>domain_description</td>\n",
       "      <td>&lt;NA&gt;</td>\n",
       "      <td>&lt;NA&gt;</td>\n",
       "      <td>&lt;NA&gt;</td>\n",
       "    </tr>\n",
       "    <tr>\n",
       "      <th>464</th>\n",
       "      <td>site_components</td>\n",
       "      <td>string</td>\n",
       "      <td>site_residues</td>\n",
       "      <td>&lt;NA&gt;</td>\n",
       "      <td>&lt;NA&gt;</td>\n",
       "      <td>&lt;NA&gt;</td>\n",
       "    </tr>\n",
       "  </tbody>\n",
       "</table>\n",
       "</div>"
      ],
      "text/plain": [
       "              table_name data_type         column_name   min   max  range\n",
       "46   activity_properties    string            comments  <NA>  <NA>   <NA>\n",
       "240              domains    string  domain_description  <NA>  <NA>   <NA>\n",
       "464      site_components    string       site_residues  <NA>  <NA>   <NA>"
      ]
     },
     "execution_count": 33,
     "metadata": {},
     "output_type": "execute_result"
    }
   ],
   "source": [
    "df[df['range'].isnull()]"
   ]
  },
  {
   "cell_type": "code",
   "execution_count": 34,
   "id": "1f0ac622-b1f1-443f-b064-74c81f47bcc6",
   "metadata": {},
   "outputs": [],
   "source": [
    "# The above columns only contain null values\n",
    "# chembl_33=# select comments from activity_properties where comments is not null;\n",
    "# (0 rows)\n",
    "\n",
    "# chembl_33=# select domain_description from domains where domain_description is not null;\n",
    "# (0 rows)\n",
    "\n",
    "# chembl_33=# select site_residues from site_components where site_residues is not null;\n",
    "# (0 rows)\n"
   ]
  },
  {
   "cell_type": "code",
   "execution_count": 35,
   "id": "486cf6b7-da53-4bec-9f5c-543c12e56dbe",
   "metadata": {},
   "outputs": [],
   "source": [
    "df=df[~df['range'].isnull()]"
   ]
  },
  {
   "cell_type": "code",
   "execution_count": 36,
   "id": "9060827f-004c-47cc-8d22-3f88f397487c",
   "metadata": {},
   "outputs": [],
   "source": [
    "def value_range_string_percentages(data_type):\n",
    "    \n",
    "    # null ratio = # of nulls / total number of rows\n",
    "    # higher null ratio means more nulls\n",
    "    bin0 = df[(df['data_type'] == data_type) & (df['range'] >= 0) & (df['range'] <= 5)].shape[0]\n",
    "    bin1 = df[(df['data_type'] == data_type) & (df['range'] > 5) & (df['range'] <= 10)].shape[0]\n",
    "    bin2 = df[(df['data_type'] == data_type) & (df['range'] > 10) & (df['range'] <= 25)].shape[0]\n",
    "    bin3 = df[(df['data_type'] == data_type) & (df['range'] > 25) & (df['range'] <= 50)].shape[0]\n",
    "    bin4 = df[(df['data_type'] == data_type) & (df['range'] > 50) & (df['range'] <= 100)].shape[0]\n",
    "    bin5 = df[(df['data_type'] == data_type) & (df['range'] > 100) & (df['range'] <= 1000)].shape[0]\n",
    "    bin6 = df[(df['data_type'] == data_type) & (df['range'] > 1000)].shape[0]\n",
    "    \n",
    "    \n",
    "    total_size = df[(df['data_type'] == data_type)].shape[0]\n",
    "   \n",
    "    bin0p = bin0/total_size\n",
    "    bin1p = bin1/total_size\n",
    "    bin2p = bin2/total_size\n",
    "    bin3p = bin3/total_size\n",
    "    bin4p = bin4/total_size\n",
    "    bin5p = bin5/total_size\n",
    "    bin6p = bin6/total_size\n",
    "    \n",
    "    bins = [bin0p,\n",
    "            bin1p,\n",
    "            bin2p,\n",
    "            bin3p,\n",
    "            bin4p,\n",
    "            bin5p,\n",
    "            bin6p\n",
    "            ]\n",
    "\n",
    "    \n",
    "    result = pd.DataFrame({'range':['[0.0, 5]','(5, 10]', '(10, 25]', '(25, 50]','(50, 100]', '(100, 1000]', '(1000, inf)'],\n",
    "                          '% of dataset':[bin0p, bin1p, bin2p, bin3p, bin4p, bin5p, bin6p],\n",
    "                          'cumulative': [sum(bins[0:1]), sum(bins[0:2]), sum(bins[0:3]), sum(bins[0:4]), sum(bins[0:5]), sum(bins[0:6]), sum(bins[0:])]})\n",
    "    return result"
   ]
  },
  {
   "cell_type": "code",
   "execution_count": 37,
   "id": "1c56e281-ae22-4191-920f-3db78f159d90",
   "metadata": {},
   "outputs": [
    {
     "name": "stdout",
     "output_type": "stream",
     "text": [
      "|    | range       |   % of dataset |   cumulative |\n",
      "|---:|:------------|---------------:|-------------:|\n",
      "|  0 | [0.0, 5]    |      0.340278  |     0.340278 |\n",
      "|  1 | (5, 10]     |      0.0763889 |     0.416667 |\n",
      "|  2 | (10, 25]    |      0.138889  |     0.555556 |\n",
      "|  3 | (25, 50]    |      0.09375   |     0.649306 |\n",
      "|  4 | (50, 100]   |      0.142361  |     0.791667 |\n",
      "|  5 | (100, 1000] |      0.149306  |     0.940972 |\n",
      "|  6 | (1000, inf) |      0.0590278 |     1        |\n"
     ]
    }
   ],
   "source": [
    "print(value_range_string_percentages('string').to_markdown())"
   ]
  },
  {
   "cell_type": "code",
   "execution_count": 38,
   "id": "7a4ed5d7-6410-4438-95c0-335980ff5202",
   "metadata": {},
   "outputs": [
    {
     "data": {
      "text/html": [
       "<div>\n",
       "<style scoped>\n",
       "    .dataframe tbody tr th:only-of-type {\n",
       "        vertical-align: middle;\n",
       "    }\n",
       "\n",
       "    .dataframe tbody tr th {\n",
       "        vertical-align: top;\n",
       "    }\n",
       "\n",
       "    .dataframe thead th {\n",
       "        text-align: right;\n",
       "    }\n",
       "</style>\n",
       "<table border=\"1\" class=\"dataframe\">\n",
       "  <thead>\n",
       "    <tr style=\"text-align: right;\">\n",
       "      <th></th>\n",
       "      <th>table_name</th>\n",
       "      <th>data_type</th>\n",
       "      <th>column_name</th>\n",
       "      <th>min</th>\n",
       "      <th>max</th>\n",
       "      <th>range</th>\n",
       "    </tr>\n",
       "  </thead>\n",
       "  <tbody>\n",
       "    <tr>\n",
       "      <th>218</th>\n",
       "      <td>compound_structures</td>\n",
       "      <td>string</td>\n",
       "      <td>molfile</td>\n",
       "      <td>141</td>\n",
       "      <td>65866</td>\n",
       "      <td>65725</td>\n",
       "    </tr>\n",
       "    <tr>\n",
       "      <th>219</th>\n",
       "      <td>compound_structures</td>\n",
       "      <td>string</td>\n",
       "      <td>standard_inchi</td>\n",
       "      <td>10</td>\n",
       "      <td>3822</td>\n",
       "      <td>3812</td>\n",
       "    </tr>\n",
       "    <tr>\n",
       "      <th>220</th>\n",
       "      <td>compound_structures</td>\n",
       "      <td>string</td>\n",
       "      <td>standard_inchi_key</td>\n",
       "      <td>27</td>\n",
       "      <td>27</td>\n",
       "      <td>0</td>\n",
       "    </tr>\n",
       "    <tr>\n",
       "      <th>221</th>\n",
       "      <td>compound_structures</td>\n",
       "      <td>string</td>\n",
       "      <td>canonical_smiles</td>\n",
       "      <td>1</td>\n",
       "      <td>2045</td>\n",
       "      <td>2044</td>\n",
       "    </tr>\n",
       "  </tbody>\n",
       "</table>\n",
       "</div>"
      ],
      "text/plain": [
       "              table_name data_type         column_name  min    max  range\n",
       "218  compound_structures    string             molfile  141  65866  65725\n",
       "219  compound_structures    string      standard_inchi   10   3822   3812\n",
       "220  compound_structures    string  standard_inchi_key   27     27      0\n",
       "221  compound_structures    string    canonical_smiles    1   2045   2044"
      ]
     },
     "execution_count": 38,
     "metadata": {},
     "output_type": "execute_result"
    }
   ],
   "source": [
    "df[df['table_name']=='compound_structures']"
   ]
  },
  {
   "cell_type": "code",
   "execution_count": null,
   "id": "fa0ea835-4680-45b1-830d-16bbf7fc3cdc",
   "metadata": {},
   "outputs": [],
   "source": []
  }
 ],
 "metadata": {
  "kernelspec": {
   "display_name": "Python 3 (ipykernel)",
   "language": "python",
   "name": "python3"
  },
  "language_info": {
   "codemirror_mode": {
    "name": "ipython",
    "version": 3
   },
   "file_extension": ".py",
   "mimetype": "text/x-python",
   "name": "python",
   "nbconvert_exporter": "python",
   "pygments_lexer": "ipython3",
   "version": "3.10.12"
  }
 },
 "nbformat": 4,
 "nbformat_minor": 5
}
