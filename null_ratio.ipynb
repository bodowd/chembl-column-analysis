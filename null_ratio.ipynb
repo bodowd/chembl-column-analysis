{
 "cells": [
  {
   "cell_type": "code",
   "execution_count": 1,
   "id": "502c6bbb-3489-4dc7-92d7-9af6265aea69",
   "metadata": {},
   "outputs": [],
   "source": [
    "import pandas as pd"
   ]
  },
  {
   "cell_type": "code",
   "execution_count": 2,
   "id": "8002a560-5930-4cbc-80cc-784eebea21cc",
   "metadata": {},
   "outputs": [],
   "source": [
    "df = pd.read_csv('null_ratio.csv')"
   ]
  },
  {
   "cell_type": "code",
   "execution_count": 3,
   "id": "4febd322-68a5-4f93-9f3b-01c66aa45856",
   "metadata": {},
   "outputs": [
    {
     "data": {
      "text/html": [
       "<div>\n",
       "<style scoped>\n",
       "    .dataframe tbody tr th:only-of-type {\n",
       "        vertical-align: middle;\n",
       "    }\n",
       "\n",
       "    .dataframe tbody tr th {\n",
       "        vertical-align: top;\n",
       "    }\n",
       "\n",
       "    .dataframe thead th {\n",
       "        text-align: right;\n",
       "    }\n",
       "</style>\n",
       "<table border=\"1\" class=\"dataframe\">\n",
       "  <thead>\n",
       "    <tr style=\"text-align: right;\">\n",
       "      <th></th>\n",
       "      <th>table_name</th>\n",
       "      <th>data_type</th>\n",
       "      <th>column_name</th>\n",
       "      <th>null_count</th>\n",
       "      <th>row_count</th>\n",
       "      <th>null_ratio</th>\n",
       "    </tr>\n",
       "  </thead>\n",
       "  <tbody>\n",
       "    <tr>\n",
       "      <th>0</th>\n",
       "      <td>assays</td>\n",
       "      <td>int</td>\n",
       "      <td>assay_id</td>\n",
       "      <td>0</td>\n",
       "      <td>1610596</td>\n",
       "      <td>0.000000</td>\n",
       "    </tr>\n",
       "    <tr>\n",
       "      <th>1</th>\n",
       "      <td>assays</td>\n",
       "      <td>int</td>\n",
       "      <td>doc_id</td>\n",
       "      <td>0</td>\n",
       "      <td>1610596</td>\n",
       "      <td>0.000000</td>\n",
       "    </tr>\n",
       "    <tr>\n",
       "      <th>2</th>\n",
       "      <td>assays</td>\n",
       "      <td>int</td>\n",
       "      <td>assay_tax_id</td>\n",
       "      <td>170340</td>\n",
       "      <td>1610596</td>\n",
       "      <td>0.105762</td>\n",
       "    </tr>\n",
       "    <tr>\n",
       "      <th>3</th>\n",
       "      <td>assays</td>\n",
       "      <td>int</td>\n",
       "      <td>tid</td>\n",
       "      <td>0</td>\n",
       "      <td>1610596</td>\n",
       "      <td>0.000000</td>\n",
       "    </tr>\n",
       "    <tr>\n",
       "      <th>4</th>\n",
       "      <td>assays</td>\n",
       "      <td>int</td>\n",
       "      <td>confidence_score</td>\n",
       "      <td>0</td>\n",
       "      <td>1610596</td>\n",
       "      <td>0.000000</td>\n",
       "    </tr>\n",
       "  </tbody>\n",
       "</table>\n",
       "</div>"
      ],
      "text/plain": [
       "  table_name data_type       column_name  null_count  row_count  null_ratio\n",
       "0     assays       int          assay_id           0    1610596    0.000000\n",
       "1     assays       int            doc_id           0    1610596    0.000000\n",
       "2     assays       int      assay_tax_id      170340    1610596    0.105762\n",
       "3     assays       int               tid           0    1610596    0.000000\n",
       "4     assays       int  confidence_score           0    1610596    0.000000"
      ]
     },
     "execution_count": 3,
     "metadata": {},
     "output_type": "execute_result"
    }
   ],
   "source": [
    "df.head()"
   ]
  },
  {
   "cell_type": "code",
   "execution_count": 4,
   "id": "c08f159c-3b6e-4ef7-b3c8-0294472e5b09",
   "metadata": {},
   "outputs": [],
   "source": [
    "def null_ratio_bin_percentages(data_type):\n",
    "    # null ratio = # of nulls / total number of rows\n",
    "    # higher null ratio means more nulls\n",
    "    bin0 = df[(df['data_type'] == data_type) & (df['null_ratio'] == 0)].shape[0]\n",
    "    bin1 = df[(df['data_type'] == data_type) & (df['null_ratio'] > 0) & (df['null_ratio'] <= 1e-05)].shape[0]\n",
    "    bin2 = df[(df['data_type'] == data_type) & (df['null_ratio'] > 1e-05) & (df['null_ratio'] <= 1e-04)].shape[0]\n",
    "    bin3 = df[(df['data_type'] == data_type) & (df['null_ratio'] > 1e-04) & (df['null_ratio'] <= 1e-03)].shape[0]\n",
    "    bin4 = df[(df['data_type'] == data_type) & (df['null_ratio'] > 1e-03) & (df['null_ratio'] <= 1e-02)].shape[0]\n",
    "    bin5 = df[(df['data_type'] == data_type) & (df['null_ratio'] > 1e-02) & (df['null_ratio'] <= 1e-01)].shape[0]\n",
    "    bin6 = df[(df['data_type'] == data_type) & (df['null_ratio'] > 1e-01) & (df['null_ratio'] <= 1)].shape[0]\n",
    "\n",
    "    total_size = df[(df['data_type'] == data_type)].shape[0]\n",
    "\n",
    "    bin0p = bin0/total_size\n",
    "    bin1p = bin1/total_size\n",
    "    bin2p = bin2/total_size\n",
    "    bin3p = bin3/total_size\n",
    "    bin4p = bin4/total_size\n",
    "    bin5p = bin5/total_size\n",
    "    bin6p = bin6/total_size\n",
    "    \n",
    "    bins = [bin0p,\n",
    "            bin1p,\n",
    "            bin2p,\n",
    "            bin3p,\n",
    "            bin4p,\n",
    "            bin5p,\n",
    "            bin6p]\n",
    "\n",
    "    \n",
    "    result = pd.DataFrame({'null_ratio':['0','(0.0, 1e-05]', '(1e-05, 1e-04]', '(1e-04, 1e-03]','(1e-03, 1e-02]', '(1e-02, 1e-01]', '(1e-01, 1]'],\n",
    "                          '% of dataset':[bin0p, bin1p, bin2p, bin3p, bin4p, bin5p, bin6p],\n",
    "                          'cumulative': [sum(bins[0:1]), sum(bins[0:2]), sum(bins[0:3]), sum(bins[0:4]), sum(bins[0:5]), sum(bins[0:6]), sum(bins[0:7])]})\n",
    "    return result"
   ]
  },
  {
   "cell_type": "code",
   "execution_count": 7,
   "id": "22ba8466-63ea-4100-aafe-ef87d598b81e",
   "metadata": {},
   "outputs": [
    {
     "name": "stdout",
     "output_type": "stream",
     "text": [
      "|    | null_ratio     |   % of dataset |   cumulative |\n",
      "|---:|:---------------|---------------:|-------------:|\n",
      "|  0 | 0              |     0.809524   |     0.809524 |\n",
      "|  1 | (0.0, 1e-05]   |     0          |     0.809524 |\n",
      "|  2 | (1e-05, 1e-04] |     0          |     0.809524 |\n",
      "|  3 | (1e-04, 1e-03] |     0.00952381 |     0.819048 |\n",
      "|  4 | (1e-03, 1e-02] |     0.00952381 |     0.828571 |\n",
      "|  5 | (1e-02, 1e-01] |     0.0857143  |     0.914286 |\n",
      "|  6 | (1e-01, 1]     |     0.0857143  |     1        |\n"
     ]
    }
   ],
   "source": [
    "print(null_ratio_bin_percentages('int').to_markdown())"
   ]
  },
  {
   "cell_type": "code",
   "execution_count": 8,
   "id": "09341d62-9b9f-461b-ab1b-0332041ec51b",
   "metadata": {},
   "outputs": [
    {
     "name": "stdout",
     "output_type": "stream",
     "text": [
      "|    | null_ratio     |   % of dataset |   cumulative |\n",
      "|---:|:---------------|---------------:|-------------:|\n",
      "|  0 | 0              |      0.0967742 |    0.0967742 |\n",
      "|  1 | (0.0, 1e-05]   |      0.0645161 |    0.16129   |\n",
      "|  2 | (1e-05, 1e-04] |      0         |    0.16129   |\n",
      "|  3 | (1e-04, 1e-03] |      0         |    0.16129   |\n",
      "|  4 | (1e-03, 1e-02] |      0.0322581 |    0.193548  |\n",
      "|  5 | (1e-02, 1e-01] |      0.419355  |    0.612903  |\n",
      "|  6 | (1e-01, 1]     |      0.387097  |    1         |\n"
     ]
    }
   ],
   "source": [
    "print(null_ratio_bin_percentages('float').to_markdown())"
   ]
  },
  {
   "cell_type": "code",
   "execution_count": 9,
   "id": "f9679efa-0872-4680-8c70-3fe0c0eff0af",
   "metadata": {},
   "outputs": [
    {
     "name": "stdout",
     "output_type": "stream",
     "text": [
      "|    | null_ratio     |   % of dataset |   cumulative |\n",
      "|---:|:---------------|---------------:|-------------:|\n",
      "|  0 | 0              |     0.570447   |     0.570447 |\n",
      "|  1 | (0.0, 1e-05]   |     0.00343643 |     0.573883 |\n",
      "|  2 | (1e-05, 1e-04] |     0.00343643 |     0.57732  |\n",
      "|  3 | (1e-04, 1e-03] |     0.024055   |     0.601375 |\n",
      "|  4 | (1e-03, 1e-02] |     0.04811    |     0.649485 |\n",
      "|  5 | (1e-02, 1e-01] |     0.0652921  |     0.714777 |\n",
      "|  6 | (1e-01, 1]     |     0.285223   |     1        |\n"
     ]
    }
   ],
   "source": [
    "print(null_ratio_bin_percentages('string').to_markdown())"
   ]
  },
  {
   "cell_type": "code",
   "execution_count": 13,
   "id": "e0e27f76-afcf-4774-adc1-013ce8d4b079",
   "metadata": {},
   "outputs": [
    {
     "data": {
      "text/html": [
       "<div>\n",
       "<style scoped>\n",
       "    .dataframe tbody tr th:only-of-type {\n",
       "        vertical-align: middle;\n",
       "    }\n",
       "\n",
       "    .dataframe tbody tr th {\n",
       "        vertical-align: top;\n",
       "    }\n",
       "\n",
       "    .dataframe thead th {\n",
       "        text-align: right;\n",
       "    }\n",
       "</style>\n",
       "<table border=\"1\" class=\"dataframe\">\n",
       "  <thead>\n",
       "    <tr style=\"text-align: right;\">\n",
       "      <th></th>\n",
       "      <th>null_ratio</th>\n",
       "      <th>% of dataset</th>\n",
       "      <th>cumulative</th>\n",
       "    </tr>\n",
       "  </thead>\n",
       "  <tbody>\n",
       "    <tr>\n",
       "      <th>0</th>\n",
       "      <td>0</td>\n",
       "      <td>0.8</td>\n",
       "      <td>0.8</td>\n",
       "    </tr>\n",
       "    <tr>\n",
       "      <th>1</th>\n",
       "      <td>(0.0, 1e-05]</td>\n",
       "      <td>0.0</td>\n",
       "      <td>0.8</td>\n",
       "    </tr>\n",
       "    <tr>\n",
       "      <th>2</th>\n",
       "      <td>(1e-05, 1e-04]</td>\n",
       "      <td>0.0</td>\n",
       "      <td>0.8</td>\n",
       "    </tr>\n",
       "    <tr>\n",
       "      <th>3</th>\n",
       "      <td>(1e-04, 1e-03]</td>\n",
       "      <td>0.0</td>\n",
       "      <td>0.8</td>\n",
       "    </tr>\n",
       "    <tr>\n",
       "      <th>4</th>\n",
       "      <td>(1e-03, 1e-02]</td>\n",
       "      <td>0.0</td>\n",
       "      <td>0.8</td>\n",
       "    </tr>\n",
       "    <tr>\n",
       "      <th>5</th>\n",
       "      <td>(1e-02, 1e-01]</td>\n",
       "      <td>0.0</td>\n",
       "      <td>0.8</td>\n",
       "    </tr>\n",
       "    <tr>\n",
       "      <th>6</th>\n",
       "      <td>(1e-01, 1]</td>\n",
       "      <td>0.2</td>\n",
       "      <td>1.0</td>\n",
       "    </tr>\n",
       "  </tbody>\n",
       "</table>\n",
       "</div>"
      ],
      "text/plain": [
       "       null_ratio  % of dataset  cumulative\n",
       "0               0           0.8         0.8\n",
       "1    (0.0, 1e-05]           0.0         0.8\n",
       "2  (1e-05, 1e-04]           0.0         0.8\n",
       "3  (1e-04, 1e-03]           0.0         0.8\n",
       "4  (1e-03, 1e-02]           0.0         0.8\n",
       "5  (1e-02, 1e-01]           0.0         0.8\n",
       "6      (1e-01, 1]           0.2         1.0"
      ]
     },
     "execution_count": 13,
     "metadata": {},
     "output_type": "execute_result"
    }
   ],
   "source": [
    "null_ratio_bin_percentages('timestamp')"
   ]
  },
  {
   "cell_type": "code",
   "execution_count": null,
   "id": "2664326b-39f0-4281-ab66-cfbf0dcc848c",
   "metadata": {},
   "outputs": [],
   "source": []
  }
 ],
 "metadata": {
  "kernelspec": {
   "display_name": "Python 3 (ipykernel)",
   "language": "python",
   "name": "python3"
  },
  "language_info": {
   "codemirror_mode": {
    "name": "ipython",
    "version": 3
   },
   "file_extension": ".py",
   "mimetype": "text/x-python",
   "name": "python",
   "nbconvert_exporter": "python",
   "pygments_lexer": "ipython3",
   "version": "3.10.12"
  }
 },
 "nbformat": 4,
 "nbformat_minor": 5
}
