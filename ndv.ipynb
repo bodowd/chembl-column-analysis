{
 "cells": [
  {
   "cell_type": "code",
   "execution_count": 15,
   "id": "fb9bd8e2-7f48-42ac-9188-b569b659919d",
   "metadata": {},
   "outputs": [],
   "source": [
    "import matplotlib.pyplot as plt\n",
    "import pandas as pd"
   ]
  },
  {
   "cell_type": "code",
   "execution_count": 16,
   "id": "7820e7f5-366e-417b-b7dc-de8a18519c6b",
   "metadata": {},
   "outputs": [],
   "source": [
    "df = pd.read_csv('ndv.csv')"
   ]
  },
  {
   "cell_type": "code",
   "execution_count": 17,
   "id": "573a9e4a-57a7-44ce-a712-5a15e5bfc78b",
   "metadata": {},
   "outputs": [],
   "source": [
    "def ndv_bin_percentages(data_type):\n",
    "    # higher ndv means more distinct values\n",
    "    # ndv = number distinct values / total number of rows\n",
    "    bin1 = df[(df['data_type'] == data_type) & (df['ndv'] > 0) & (df['ndv'] <= 1e-05)].shape[0]\n",
    "    bin2 = df[(df['data_type'] == data_type) & (df['ndv'] > 1e-05) & (df['ndv'] <= 1e-04)].shape[0]\n",
    "    bin3 = df[(df['data_type'] == data_type) & (df['ndv'] > 1e-04) & (df['ndv'] <= 1e-03)].shape[0]\n",
    "    bin4 = df[(df['data_type'] == data_type) & (df['ndv'] > 1e-03) & (df['ndv'] <= 1e-02)].shape[0]\n",
    "    bin5 = df[(df['data_type'] == data_type) & (df['ndv'] > 1e-02) & (df['ndv'] <= 1e-01)].shape[0]\n",
    "    bin6 = df[(df['data_type'] == data_type) & (df['ndv'] > 1e-01) & (df['ndv'] <= 1)].shape[0]\n",
    "\n",
    "    total_size = df[(df['data_type'] == data_type)].shape[0]\n",
    "\n",
    "    bin1p = bin1/total_size\n",
    "    bin2p = bin2/total_size\n",
    "    bin3p = bin3/total_size\n",
    "    bin4p = bin4/total_size\n",
    "    bin5p = bin5/total_size\n",
    "    bin6p = bin6/total_size\n",
    "    \n",
    "    bins = [bin1p,\n",
    "            bin2p,\n",
    "            bin3p,\n",
    "            bin4p,\n",
    "            bin5p,\n",
    "            bin6p]\n",
    "\n",
    "    \n",
    "    result = pd.DataFrame({'ndv':['(0.0, 1e-05]', '(1e-05, 1e-04]', '(1e-04, 1e-03]','(1e-03, 1e-02]', '(1e-02, 1e-01]', '(1e-01, 1]'],\n",
    "                          '% of dataset':[bin1p, bin2p, bin3p, bin4p, bin5p, bin6p],\n",
    "                          'cumulative': [sum(bins[0:1]), sum(bins[0:2]), sum(bins[0:3]), sum(bins[0:4]), sum(bins[0:5]), sum(bins[0:6])]})\n",
    "    return result"
   ]
  },
  {
   "cell_type": "code",
   "execution_count": 18,
   "id": "2fc58dd9-77d4-4070-84b5-2b5c91c3a9be",
   "metadata": {},
   "outputs": [],
   "source": [
    "int_df = ndv_bin_percentages('int')"
   ]
  },
  {
   "cell_type": "code",
   "execution_count": 19,
   "id": "921d93fb-6ea5-4294-947c-9bed17bc395b",
   "metadata": {},
   "outputs": [
    {
     "name": "stdout",
     "output_type": "stream",
     "text": [
      "|    | ndv            |   % of dataset |   cumulative |\n",
      "|---:|:---------------|---------------:|-------------:|\n",
      "|  0 | (0.0, 1e-05]   |      0.114286  |     0.114286 |\n",
      "|  1 | (1e-05, 1e-04] |      0.0571429 |     0.171429 |\n",
      "|  2 | (1e-04, 1e-03] |      0.0619048 |     0.233333 |\n",
      "|  3 | (1e-03, 1e-02] |      0.0714286 |     0.304762 |\n",
      "|  4 | (1e-02, 1e-01] |      0.104762  |     0.409524 |\n",
      "|  5 | (1e-01, 1]     |      0.590476  |     1        |\n"
     ]
    }
   ],
   "source": [
    "print(int_df.to_markdown())"
   ]
  },
  {
   "cell_type": "code",
   "execution_count": 22,
   "id": "61474829-a740-4a2f-b2b5-16262d7c6234",
   "metadata": {},
   "outputs": [
    {
     "data": {
      "text/html": [
       "<div>\n",
       "<style scoped>\n",
       "    .dataframe tbody tr th:only-of-type {\n",
       "        vertical-align: middle;\n",
       "    }\n",
       "\n",
       "    .dataframe tbody tr th {\n",
       "        vertical-align: top;\n",
       "    }\n",
       "\n",
       "    .dataframe thead th {\n",
       "        text-align: right;\n",
       "    }\n",
       "</style>\n",
       "<table border=\"1\" class=\"dataframe\">\n",
       "  <thead>\n",
       "    <tr style=\"text-align: right;\">\n",
       "      <th></th>\n",
       "      <th>ndv</th>\n",
       "      <th>% of dataset</th>\n",
       "      <th>cumulative</th>\n",
       "    </tr>\n",
       "  </thead>\n",
       "  <tbody>\n",
       "    <tr>\n",
       "      <th>0</th>\n",
       "      <td>(0.0, 1e-05]</td>\n",
       "      <td>0.000000</td>\n",
       "      <td>0.000000</td>\n",
       "    </tr>\n",
       "    <tr>\n",
       "      <th>1</th>\n",
       "      <td>(1e-05, 1e-04]</td>\n",
       "      <td>0.032258</td>\n",
       "      <td>0.032258</td>\n",
       "    </tr>\n",
       "    <tr>\n",
       "      <th>2</th>\n",
       "      <td>(1e-04, 1e-03]</td>\n",
       "      <td>0.161290</td>\n",
       "      <td>0.193548</td>\n",
       "    </tr>\n",
       "    <tr>\n",
       "      <th>3</th>\n",
       "      <td>(1e-03, 1e-02]</td>\n",
       "      <td>0.322581</td>\n",
       "      <td>0.516129</td>\n",
       "    </tr>\n",
       "    <tr>\n",
       "      <th>4</th>\n",
       "      <td>(1e-02, 1e-01]</td>\n",
       "      <td>0.354839</td>\n",
       "      <td>0.870968</td>\n",
       "    </tr>\n",
       "    <tr>\n",
       "      <th>5</th>\n",
       "      <td>(1e-01, 1]</td>\n",
       "      <td>0.096774</td>\n",
       "      <td>0.967742</td>\n",
       "    </tr>\n",
       "  </tbody>\n",
       "</table>\n",
       "</div>"
      ],
      "text/plain": [
       "              ndv  % of dataset  cumulative\n",
       "0    (0.0, 1e-05]      0.000000    0.000000\n",
       "1  (1e-05, 1e-04]      0.032258    0.032258\n",
       "2  (1e-04, 1e-03]      0.161290    0.193548\n",
       "3  (1e-03, 1e-02]      0.322581    0.516129\n",
       "4  (1e-02, 1e-01]      0.354839    0.870968\n",
       "5      (1e-01, 1]      0.096774    0.967742"
      ]
     },
     "execution_count": 22,
     "metadata": {},
     "output_type": "execute_result"
    }
   ],
   "source": [
    "float_df = ndv_bin_percentages('float')\n",
    "float_df"
   ]
  },
  {
   "cell_type": "code",
   "execution_count": 23,
   "id": "7692797c-f55a-4c68-b25b-db9bba25338e",
   "metadata": {},
   "outputs": [
    {
     "name": "stdout",
     "output_type": "stream",
     "text": [
      "|    | ndv            |   % of dataset |   cumulative |\n",
      "|---:|:---------------|---------------:|-------------:|\n",
      "|  0 | (0.0, 1e-05]   |      0         |    0         |\n",
      "|  1 | (1e-05, 1e-04] |      0.0322581 |    0.0322581 |\n",
      "|  2 | (1e-04, 1e-03] |      0.16129   |    0.193548  |\n",
      "|  3 | (1e-03, 1e-02] |      0.322581  |    0.516129  |\n",
      "|  4 | (1e-02, 1e-01] |      0.354839  |    0.870968  |\n",
      "|  5 | (1e-01, 1]     |      0.0967742 |    0.967742  |\n"
     ]
    }
   ],
   "source": [
    "print(float_df.to_markdown())"
   ]
  },
  {
   "cell_type": "code",
   "execution_count": 24,
   "id": "8e62ca05-d4b9-451c-a467-6cbafb6701b8",
   "metadata": {},
   "outputs": [
    {
     "data": {
      "text/html": [
       "<div>\n",
       "<style scoped>\n",
       "    .dataframe tbody tr th:only-of-type {\n",
       "        vertical-align: middle;\n",
       "    }\n",
       "\n",
       "    .dataframe tbody tr th {\n",
       "        vertical-align: top;\n",
       "    }\n",
       "\n",
       "    .dataframe thead th {\n",
       "        text-align: right;\n",
       "    }\n",
       "</style>\n",
       "<table border=\"1\" class=\"dataframe\">\n",
       "  <thead>\n",
       "    <tr style=\"text-align: right;\">\n",
       "      <th></th>\n",
       "      <th>ndv</th>\n",
       "      <th>% of dataset</th>\n",
       "      <th>cumulative</th>\n",
       "    </tr>\n",
       "  </thead>\n",
       "  <tbody>\n",
       "    <tr>\n",
       "      <th>0</th>\n",
       "      <td>(0.0, 1e-05]</td>\n",
       "      <td>0.072165</td>\n",
       "      <td>0.072165</td>\n",
       "    </tr>\n",
       "    <tr>\n",
       "      <th>1</th>\n",
       "      <td>(1e-05, 1e-04]</td>\n",
       "      <td>0.061856</td>\n",
       "      <td>0.134021</td>\n",
       "    </tr>\n",
       "    <tr>\n",
       "      <th>2</th>\n",
       "      <td>(1e-04, 1e-03]</td>\n",
       "      <td>0.051546</td>\n",
       "      <td>0.185567</td>\n",
       "    </tr>\n",
       "    <tr>\n",
       "      <th>3</th>\n",
       "      <td>(1e-03, 1e-02]</td>\n",
       "      <td>0.113402</td>\n",
       "      <td>0.298969</td>\n",
       "    </tr>\n",
       "    <tr>\n",
       "      <th>4</th>\n",
       "      <td>(1e-02, 1e-01]</td>\n",
       "      <td>0.144330</td>\n",
       "      <td>0.443299</td>\n",
       "    </tr>\n",
       "    <tr>\n",
       "      <th>5</th>\n",
       "      <td>(1e-01, 1]</td>\n",
       "      <td>0.546392</td>\n",
       "      <td>0.989691</td>\n",
       "    </tr>\n",
       "  </tbody>\n",
       "</table>\n",
       "</div>"
      ],
      "text/plain": [
       "              ndv  % of dataset  cumulative\n",
       "0    (0.0, 1e-05]      0.072165    0.072165\n",
       "1  (1e-05, 1e-04]      0.061856    0.134021\n",
       "2  (1e-04, 1e-03]      0.051546    0.185567\n",
       "3  (1e-03, 1e-02]      0.113402    0.298969\n",
       "4  (1e-02, 1e-01]      0.144330    0.443299\n",
       "5      (1e-01, 1]      0.546392    0.989691"
      ]
     },
     "execution_count": 24,
     "metadata": {},
     "output_type": "execute_result"
    }
   ],
   "source": [
    "str_df = ndv_bin_percentages('string')\n",
    "str_df"
   ]
  },
  {
   "cell_type": "code",
   "execution_count": 25,
   "id": "2c52ea5d-cf62-4973-b056-2cd94e1225d8",
   "metadata": {},
   "outputs": [
    {
     "name": "stdout",
     "output_type": "stream",
     "text": [
      "|    | ndv            |   % of dataset |   cumulative |\n",
      "|---:|:---------------|---------------:|-------------:|\n",
      "|  0 | (0.0, 1e-05]   |      0.0721649 |    0.0721649 |\n",
      "|  1 | (1e-05, 1e-04] |      0.0618557 |    0.134021  |\n",
      "|  2 | (1e-04, 1e-03] |      0.0515464 |    0.185567  |\n",
      "|  3 | (1e-03, 1e-02] |      0.113402  |    0.298969  |\n",
      "|  4 | (1e-02, 1e-01] |      0.14433   |    0.443299  |\n",
      "|  5 | (1e-01, 1]     |      0.546392  |    0.989691  |\n"
     ]
    }
   ],
   "source": [
    "print(str_df.to_markdown())"
   ]
  },
  {
   "cell_type": "code",
   "execution_count": 7,
   "id": "8e5dcddf-f10b-4064-817e-a461262fb472",
   "metadata": {},
   "outputs": [
    {
     "data": {
      "text/html": [
       "<div>\n",
       "<style scoped>\n",
       "    .dataframe tbody tr th:only-of-type {\n",
       "        vertical-align: middle;\n",
       "    }\n",
       "\n",
       "    .dataframe tbody tr th {\n",
       "        vertical-align: top;\n",
       "    }\n",
       "\n",
       "    .dataframe thead th {\n",
       "        text-align: right;\n",
       "    }\n",
       "</style>\n",
       "<table border=\"1\" class=\"dataframe\">\n",
       "  <thead>\n",
       "    <tr style=\"text-align: right;\">\n",
       "      <th></th>\n",
       "      <th>ndv</th>\n",
       "      <th>% of dataset</th>\n",
       "      <th>cumulative</th>\n",
       "    </tr>\n",
       "  </thead>\n",
       "  <tbody>\n",
       "    <tr>\n",
       "      <th>0</th>\n",
       "      <td>(0.0, 1e-05]</td>\n",
       "      <td>0.0</td>\n",
       "      <td>0.0</td>\n",
       "    </tr>\n",
       "    <tr>\n",
       "      <th>1</th>\n",
       "      <td>(1e-05, 1e-04]</td>\n",
       "      <td>0.0</td>\n",
       "      <td>0.0</td>\n",
       "    </tr>\n",
       "    <tr>\n",
       "      <th>2</th>\n",
       "      <td>(1e-04, 1e-03]</td>\n",
       "      <td>0.0</td>\n",
       "      <td>0.0</td>\n",
       "    </tr>\n",
       "    <tr>\n",
       "      <th>3</th>\n",
       "      <td>(1e-03, 1e-02]</td>\n",
       "      <td>0.0</td>\n",
       "      <td>0.0</td>\n",
       "    </tr>\n",
       "    <tr>\n",
       "      <th>4</th>\n",
       "      <td>(1e-02, 1e-01]</td>\n",
       "      <td>0.0</td>\n",
       "      <td>0.0</td>\n",
       "    </tr>\n",
       "    <tr>\n",
       "      <th>5</th>\n",
       "      <td>(1e-01, 1]</td>\n",
       "      <td>1.0</td>\n",
       "      <td>1.0</td>\n",
       "    </tr>\n",
       "  </tbody>\n",
       "</table>\n",
       "</div>"
      ],
      "text/plain": [
       "              ndv  % of dataset  cumulative\n",
       "0    (0.0, 1e-05]           0.0         0.0\n",
       "1  (1e-05, 1e-04]           0.0         0.0\n",
       "2  (1e-04, 1e-03]           0.0         0.0\n",
       "3  (1e-03, 1e-02]           0.0         0.0\n",
       "4  (1e-02, 1e-01]           0.0         0.0\n",
       "5      (1e-01, 1]           1.0         1.0"
      ]
     },
     "execution_count": 7,
     "metadata": {},
     "output_type": "execute_result"
    }
   ],
   "source": [
    "ndv_bin_percentages('timestamp')"
   ]
  },
  {
   "cell_type": "code",
   "execution_count": null,
   "id": "8999febb-77bd-4761-821c-dda0b8236a38",
   "metadata": {},
   "outputs": [],
   "source": []
  }
 ],
 "metadata": {
  "kernelspec": {
   "display_name": "Python 3 (ipykernel)",
   "language": "python",
   "name": "python3"
  },
  "language_info": {
   "codemirror_mode": {
    "name": "ipython",
    "version": 3
   },
   "file_extension": ".py",
   "mimetype": "text/x-python",
   "name": "python",
   "nbconvert_exporter": "python",
   "pygments_lexer": "ipython3",
   "version": "3.10.12"
  }
 },
 "nbformat": 4,
 "nbformat_minor": 5
}
