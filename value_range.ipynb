{
 "cells": [
  {
   "cell_type": "code",
   "execution_count": 1,
   "id": "39795a26-f737-4bec-a6fa-27fc5bbecad1",
   "metadata": {},
   "outputs": [],
   "source": [
    "import pandas as pd"
   ]
  },
  {
   "cell_type": "code",
   "execution_count": 2,
   "id": "1724a929-584b-47eb-88ef-760b3b82ce8a",
   "metadata": {},
   "outputs": [],
   "source": [
    "df = pd.read_csv('value_range.csv')"
   ]
  },
  {
   "cell_type": "code",
   "execution_count": 3,
   "id": "b768da33-f61c-44f0-8112-0783bfb90f90",
   "metadata": {
    "scrolled": true
   },
   "outputs": [
    {
     "data": {
      "text/html": [
       "<div>\n",
       "<style scoped>\n",
       "    .dataframe tbody tr th:only-of-type {\n",
       "        vertical-align: middle;\n",
       "    }\n",
       "\n",
       "    .dataframe tbody tr th {\n",
       "        vertical-align: top;\n",
       "    }\n",
       "\n",
       "    .dataframe thead th {\n",
       "        text-align: right;\n",
       "    }\n",
       "</style>\n",
       "<table border=\"1\" class=\"dataframe\">\n",
       "  <thead>\n",
       "    <tr style=\"text-align: right;\">\n",
       "      <th></th>\n",
       "      <th>table_name</th>\n",
       "      <th>data_type</th>\n",
       "      <th>column_name</th>\n",
       "      <th>min</th>\n",
       "      <th>max</th>\n",
       "    </tr>\n",
       "  </thead>\n",
       "  <tbody>\n",
       "    <tr>\n",
       "      <th>0</th>\n",
       "      <td>assays</td>\n",
       "      <td>int</td>\n",
       "      <td>assay_id</td>\n",
       "      <td>1</td>\n",
       "      <td>2263434</td>\n",
       "    </tr>\n",
       "    <tr>\n",
       "      <th>1</th>\n",
       "      <td>assays</td>\n",
       "      <td>int</td>\n",
       "      <td>doc_id</td>\n",
       "      <td>1</td>\n",
       "      <td>124917</td>\n",
       "    </tr>\n",
       "    <tr>\n",
       "      <th>2</th>\n",
       "      <td>assays</td>\n",
       "      <td>int</td>\n",
       "      <td>assay_tax_id</td>\n",
       "      <td>2</td>\n",
       "      <td>2905673</td>\n",
       "    </tr>\n",
       "    <tr>\n",
       "      <th>3</th>\n",
       "      <td>assays</td>\n",
       "      <td>int</td>\n",
       "      <td>tid</td>\n",
       "      <td>1</td>\n",
       "      <td>120864</td>\n",
       "    </tr>\n",
       "    <tr>\n",
       "      <th>4</th>\n",
       "      <td>assays</td>\n",
       "      <td>int</td>\n",
       "      <td>confidence_score</td>\n",
       "      <td>0</td>\n",
       "      <td>9</td>\n",
       "    </tr>\n",
       "  </tbody>\n",
       "</table>\n",
       "</div>"
      ],
      "text/plain": [
       "  table_name data_type       column_name min      max\n",
       "0     assays       int          assay_id   1  2263434\n",
       "1     assays       int            doc_id   1   124917\n",
       "2     assays       int      assay_tax_id   2  2905673\n",
       "3     assays       int               tid   1   120864\n",
       "4     assays       int  confidence_score   0        9"
      ]
     },
     "execution_count": 3,
     "metadata": {},
     "output_type": "execute_result"
    }
   ],
   "source": [
    "df.head()"
   ]
  },
  {
   "cell_type": "code",
   "execution_count": 4,
   "id": "b620d4c4-eafb-4a05-8977-2bd048177279",
   "metadata": {},
   "outputs": [],
   "source": [
    "df=df[(df['data_type']=='int')]"
   ]
  },
  {
   "cell_type": "code",
   "execution_count": 5,
   "id": "8141b847-68c7-416f-80a8-e89505b18946",
   "metadata": {},
   "outputs": [],
   "source": [
    "df['min'] = pd.to_numeric(df['min']).astype('Int64')\n",
    "df['max'] = pd.to_numeric(df['max']).astype('Int64')"
   ]
  },
  {
   "cell_type": "code",
   "execution_count": 6,
   "id": "6539f667-71ac-4771-8045-ca7c776fa72e",
   "metadata": {},
   "outputs": [],
   "source": [
    "df['range'] = df['max'] - df['min']"
   ]
  },
  {
   "cell_type": "code",
   "execution_count": 7,
   "id": "e0a1fcc6-ca55-4e65-bf42-f0bee7aa5d53",
   "metadata": {},
   "outputs": [],
   "source": [
    "def value_range_bin_percentages(data_type):\n",
    "    # null ratio = # of nulls / total number of rows\n",
    "    # higher null ratio means more nulls\n",
    "    bin0 = df[(df['data_type'] == data_type) & (df['range'] >= 0) & (df['range'] <= 1)].shape[0]\n",
    "    bin1 = df[(df['data_type'] == data_type) & (df['range'] > 1) & (df['range'] <= 1e1)].shape[0]\n",
    "    bin2 = df[(df['data_type'] == data_type) & (df['range'] > 1e1) & (df['range'] <= 1e2)].shape[0]\n",
    "    bin3 = df[(df['data_type'] == data_type) & (df['range'] > 1e2) & (df['range'] <= 1e3)].shape[0]\n",
    "    bin4 = df[(df['data_type'] == data_type) & (df['range'] > 1e3) & (df['range'] <= 1e4)].shape[0]\n",
    "    bin5 = df[(df['data_type'] == data_type) & (df['range'] > 1e4) & (df['range'] <= 1e5)].shape[0]\n",
    "    bin6 = df[(df['data_type'] == data_type) & (df['range'] > 1e5)].shape[0]\n",
    "    \n",
    "    \n",
    "    total_size = df[(df['data_type'] == data_type)].shape[0]\n",
    "   \n",
    "    bin0p = bin0/total_size\n",
    "    bin1p = bin1/total_size\n",
    "    bin2p = bin2/total_size\n",
    "    bin3p = bin3/total_size\n",
    "    bin4p = bin4/total_size\n",
    "    bin5p = bin5/total_size\n",
    "    bin6p = bin6/total_size\n",
    "    \n",
    "    bins = [bin0p,\n",
    "            bin1p,\n",
    "            bin2p,\n",
    "            bin3p,\n",
    "            bin4p,\n",
    "            bin5p,\n",
    "            bin6p]\n",
    "\n",
    "    \n",
    "    result = pd.DataFrame({'range':['[0.0, 1]','(1, 1e1]', '(1e1, 1e2]', '(1e2, 1e3]','(1e3, 1e4]', '(1e4, 1e5]', '(1e5, inf]'],\n",
    "                          '% of dataset':[bin0p, bin1p, bin2p, bin3p, bin4p, bin5p, bin6p],\n",
    "                          'cumulative': [sum(bins[0:1]), sum(bins[0:2]), sum(bins[0:3]), sum(bins[0:4]), sum(bins[0:5]), sum(bins[0:6]), sum(bins[0:7])]})\n",
    "    return result"
   ]
  },
  {
   "cell_type": "code",
   "execution_count": 8,
   "id": "b23cb5f4-d3d8-4038-aafa-23c01645079c",
   "metadata": {},
   "outputs": [
    {
     "data": {
      "text/html": [
       "<div>\n",
       "<style scoped>\n",
       "    .dataframe tbody tr th:only-of-type {\n",
       "        vertical-align: middle;\n",
       "    }\n",
       "\n",
       "    .dataframe tbody tr th {\n",
       "        vertical-align: top;\n",
       "    }\n",
       "\n",
       "    .dataframe thead th {\n",
       "        text-align: right;\n",
       "    }\n",
       "</style>\n",
       "<table border=\"1\" class=\"dataframe\">\n",
       "  <thead>\n",
       "    <tr style=\"text-align: right;\">\n",
       "      <th></th>\n",
       "      <th>range</th>\n",
       "      <th>% of dataset</th>\n",
       "      <th>cumulative</th>\n",
       "    </tr>\n",
       "  </thead>\n",
       "  <tbody>\n",
       "    <tr>\n",
       "      <th>0</th>\n",
       "      <td>[0.0, 1]</td>\n",
       "      <td>0.119048</td>\n",
       "      <td>0.119048</td>\n",
       "    </tr>\n",
       "    <tr>\n",
       "      <th>1</th>\n",
       "      <td>(1, 1e1]</td>\n",
       "      <td>0.085714</td>\n",
       "      <td>0.204762</td>\n",
       "    </tr>\n",
       "    <tr>\n",
       "      <th>2</th>\n",
       "      <td>(1e1, 1e2]</td>\n",
       "      <td>0.090476</td>\n",
       "      <td>0.295238</td>\n",
       "    </tr>\n",
       "    <tr>\n",
       "      <th>3</th>\n",
       "      <td>(1e2, 1e3]</td>\n",
       "      <td>0.085714</td>\n",
       "      <td>0.380952</td>\n",
       "    </tr>\n",
       "    <tr>\n",
       "      <th>4</th>\n",
       "      <td>(1e3, 1e4]</td>\n",
       "      <td>0.109524</td>\n",
       "      <td>0.490476</td>\n",
       "    </tr>\n",
       "    <tr>\n",
       "      <th>5</th>\n",
       "      <td>(1e4, 1e5]</td>\n",
       "      <td>0.147619</td>\n",
       "      <td>0.638095</td>\n",
       "    </tr>\n",
       "    <tr>\n",
       "      <th>6</th>\n",
       "      <td>(1e5, inf]</td>\n",
       "      <td>0.361905</td>\n",
       "      <td>1.000000</td>\n",
       "    </tr>\n",
       "  </tbody>\n",
       "</table>\n",
       "</div>"
      ],
      "text/plain": [
       "        range  % of dataset  cumulative\n",
       "0    [0.0, 1]      0.119048    0.119048\n",
       "1    (1, 1e1]      0.085714    0.204762\n",
       "2  (1e1, 1e2]      0.090476    0.295238\n",
       "3  (1e2, 1e3]      0.085714    0.380952\n",
       "4  (1e3, 1e4]      0.109524    0.490476\n",
       "5  (1e4, 1e5]      0.147619    0.638095\n",
       "6  (1e5, inf]      0.361905    1.000000"
      ]
     },
     "execution_count": 8,
     "metadata": {},
     "output_type": "execute_result"
    }
   ],
   "source": [
    "value_range_bin_percentages('int')"
   ]
  },
  {
   "cell_type": "code",
   "execution_count": null,
   "id": "a582cb59-8837-4c13-9dc6-a479b21d3dc9",
   "metadata": {},
   "outputs": [],
   "source": []
  }
 ],
 "metadata": {
  "kernelspec": {
   "display_name": "Python 3 (ipykernel)",
   "language": "python",
   "name": "python3"
  },
  "language_info": {
   "codemirror_mode": {
    "name": "ipython",
    "version": 3
   },
   "file_extension": ".py",
   "mimetype": "text/x-python",
   "name": "python",
   "nbconvert_exporter": "python",
   "pygments_lexer": "ipython3",
   "version": "3.10.12"
  }
 },
 "nbformat": 4,
 "nbformat_minor": 5
}
